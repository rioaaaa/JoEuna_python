{
  "nbformat": 4,
  "nbformat_minor": 0,
  "metadata": {
    "colab": {
      "name": "Untitled12.ipynb",
      "provenance": [],
      "authorship_tag": "ABX9TyMqAXPpug+8aghjqyGRFkYT",
      "include_colab_link": true
    },
    "kernelspec": {
      "name": "python3",
      "display_name": "Python 3"
    },
    "language_info": {
      "name": "python"
    }
  },
  "cells": [
    {
      "cell_type": "markdown",
      "metadata": {
        "id": "view-in-github",
        "colab_type": "text"
      },
      "source": [
        "<a href=\"https://colab.research.google.com/github/rioaaaa/JoEuna_python/blob/main/ch7%EC%97%B0%EC%8A%B5%EB%AC%B8%EC%A0%9C.ipynb\" target=\"_parent\"><img src=\"https://colab.research.google.com/assets/colab-badge.svg\" alt=\"Open In Colab\"/></a>"
      ]
    },
    {
      "cell_type": "code",
      "execution_count": 2,
      "metadata": {
        "colab": {
          "base_uri": "https://localhost:8080/"
        },
        "id": "JGYceS483LXR",
        "outputId": "c9b27647-3ea8-44c2-aba4-b546c025089b"
      },
      "outputs": [
        {
          "output_type": "stream",
          "name": "stdout",
          "text": [
            "Happy Birthday to you!\n",
            "Happy Birthday to you!\n",
            "Happy Birthday, dear 조은아\n",
            "Happy Birthday to you!\n"
          ]
        }
      ],
      "source": [
        "def happyBirthday(person):\n",
        " print(\"Happy Birthday to you!\")\n",
        " print(\"Happy Birthday to you!\")\n",
        " print(\"Happy Birthday, dear \" + person)\n",
        " print(\"Happy Birthday to you!\")\n",
        "happyBirthday(\"조은아\")"
      ]
    },
    {
      "cell_type": "code",
      "source": [
        "def sumProblem(x, y):\n",
        " sum = x + y\n",
        " sentence = \"정수\" + str(x) + \"+\"+str(y)+\"의 합은?\"\n",
        " print(sentence)\n",
        "def main():\n",
        " a = int(input(\"첫 번째 정수: \"))\n",
        " b = int(input(\"두 번째 정수: \"))\n",
        " sumProblem(a, b)\n",
        "main()\n"
      ],
      "metadata": {
        "colab": {
          "base_uri": "https://localhost:8080/"
        },
        "id": "PLBM3pVf3d1A",
        "outputId": "2b29250f-7f63-4c10-a56f-369be49e7b09"
      },
      "execution_count": 3,
      "outputs": [
        {
          "output_type": "stream",
          "name": "stdout",
          "text": [
            "첫 번째 정수: 5\n",
            "두 번째 정수: 2\n",
            "정수5+2의 합은?\n"
          ]
        }
      ]
    },
    {
      "cell_type": "code",
      "source": [
        "PI = 3.14159265358979\n",
        "def circleArea(radius):\n",
        " return PI*radius*radius\n",
        "def circleCircumference(radius):\n",
        " return 2*PI*radius\n",
        "def main():\n",
        " print('반지름이 5인 원의 면적:', circleArea(5))\n",
        " print('반지름이 5인 원의 둘레:', circleCircumference(5))\n",
        "main()"
      ],
      "metadata": {
        "colab": {
          "base_uri": "https://localhost:8080/"
        },
        "id": "qWJpDaE14N2p",
        "outputId": "a852701f-2a9b-4c5d-a666-928cd8ecf3e8"
      },
      "execution_count": 4,
      "outputs": [
        {
          "output_type": "stream",
          "name": "stdout",
          "text": [
            "반지름이 5인 원의 면적: 78.53981633974475\n",
            "반지름이 5인 원의 둘레: 31.4159265358979\n"
          ]
        }
      ]
    },
    {
      "cell_type": "code",
      "source": [
        "def add(a, b):\n",
        " print( \"(%d + %d)\" % (a, b), end=\" \")\n",
        " return a + b\n",
        "def subtract(a, b):\n",
        " print (\"(%d - %d)\" % (a, b), end=\" \")\n",
        " return a - b\n",
        "def multiply(a, b):\n",
        " print (\"(%d * %d)\" % (a, b), end=\" \")\n",
        " return a * b\n",
        "def divide(a, b):\n",
        " print (\"(%d / %d)\" % (a, b), end=\" \")\n",
        " return a / b\n",
        "what = subtract(20, 10)\n",
        "print(\"= \", what)"
      ],
      "metadata": {
        "colab": {
          "base_uri": "https://localhost:8080/"
        },
        "id": "S7Fy6jtK4nsA",
        "outputId": "81705377-cfab-463e-b804-f57aee5b1d42"
      },
      "execution_count": 6,
      "outputs": [
        {
          "output_type": "stream",
          "name": "stdout",
          "text": [
            "(20 - 10) =  10\n"
          ]
        }
      ]
    }
  ]
}