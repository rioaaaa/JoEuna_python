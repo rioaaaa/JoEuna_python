{
  "nbformat": 4,
  "nbformat_minor": 0,
  "metadata": {
    "colab": {
      "name": "Untitled16.ipynb",
      "provenance": [],
      "authorship_tag": "ABX9TyNWD1nqF/E6QfiQxJjIRQWN",
      "include_colab_link": true
    },
    "kernelspec": {
      "name": "python3",
      "display_name": "Python 3"
    },
    "language_info": {
      "name": "python"
    }
  },
  "cells": [
    {
      "cell_type": "markdown",
      "metadata": {
        "id": "view-in-github",
        "colab_type": "text"
      },
      "source": [
        "<a href=\"https://colab.research.google.com/github/rioaaaa/JoEuna_python/blob/main/ch11%EB%8F%84%EC%A0%84%EB%AC%B8%EC%A0%9C.ipynb\" target=\"_parent\"><img src=\"https://colab.research.google.com/assets/colab-badge.svg\" alt=\"Open In Colab\"/></a>"
      ]
    },
    {
      "cell_type": "code",
      "execution_count": 2,
      "metadata": {
        "id": "iTwut8gTMmMe"
      },
      "outputs": [],
      "source": [
        "import pickle\n",
        "addressBook = {\"names\":[\"김김김\",\"이이이\",\"박박박\",\"홍길동\"],\"mails\":[\"aaa@gmail.com\",\"bbb@gmail.com\",\"ccc@gmail.com\",\"ddd@gmail.com\"],\"address\":[\"seoul\",\"daejeon\",\"daegu\",\"busan\"]}\n",
        "file = open(\"save.p\",\"wb\")\n",
        "pickle.dump(addressBook,file)\n",
        "file.close()"
      ]
    },
    {
      "cell_type": "code",
      "source": [
        "file = open(\"save.p\",\"rb\")\n",
        "obj = pickle.load(file)\n",
        "print(obj)"
      ],
      "metadata": {
        "colab": {
          "base_uri": "https://localhost:8080/"
        },
        "id": "ggzMPRB3N1Zo",
        "outputId": "5b6c20e5-1a47-4fdf-cafd-ccaa670c875a"
      },
      "execution_count": 4,
      "outputs": [
        {
          "output_type": "stream",
          "name": "stdout",
          "text": [
            "{'names': ['김김김', '이이이', '박박박', '홍길동'], 'mails': ['aaa@gmail.com', 'bbb@gmail.com', 'ccc@gmail.com', 'ddd@gmail.com'], 'address': ['seoul', 'daejeon', 'daegu', 'busan']}\n"
          ]
        }
      ]
    }
  ]
}