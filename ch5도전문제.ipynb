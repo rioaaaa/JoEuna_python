{
  "nbformat": 4,
  "nbformat_minor": 0,
  "metadata": {
    "colab": {
      "name": "ch5도전문제.ipynb",
      "provenance": [],
      "collapsed_sections": [],
      "authorship_tag": "ABX9TyMwCScrKVJdSeCg/vMJJtlO",
      "include_colab_link": true
    },
    "kernelspec": {
      "name": "python3",
      "display_name": "Python 3"
    },
    "language_info": {
      "name": "python"
    }
  },
  "cells": [
    {
      "cell_type": "markdown",
      "metadata": {
        "id": "view-in-github",
        "colab_type": "text"
      },
      "source": [
        "<a href=\"https://colab.research.google.com/github/rioaaaa/JoEuna_python/blob/main/ch5%EB%8F%84%EC%A0%84%EB%AC%B8%EC%A0%9C.ipynb\" target=\"_parent\"><img src=\"https://colab.research.google.com/assets/colab-badge.svg\" alt=\"Open In Colab\"/></a>"
      ]
    },
    {
      "cell_type": "code",
      "metadata": {
        "colab": {
          "base_uri": "https://localhost:8080/"
        },
        "id": "MWikZnDFcqz9",
        "outputId": "8eda7d12-0303-4339-988f-aaaf26323823"
      },
      "source": [
        "age=int(input(\"나이를 입력하시오\"))\n",
        "if age>=15:\n",
        "  print(\"이 영화를 보실 수 있습니다. 영화의 가격은 10000원입니다.\")\n",
        "else:\n",
        "  print(\"이 영화를 보실 수 없습니다. 다른 영화를 보시겠어요?\")"
      ],
      "execution_count": null,
      "outputs": [
        {
          "output_type": "stream",
          "name": "stdout",
          "text": [
            "나이를 입력하시오20\n",
            "이 영화를 보실 수 있습니다. 영화의 가격은 10000원입니다.\n"
          ]
        }
      ]
    },
    {
      "cell_type": "code",
      "metadata": {
        "colab": {
          "base_uri": "https://localhost:8080/"
        },
        "id": "sQVIY-vbc4t0",
        "outputId": "4c304d7c-c5ec-4b76-cb9f-9fd5e23e4e68"
      },
      "source": [
        "import random\n",
        "\n",
        "print(\"주사위 던지기 게임을 시작합니다.\")\n",
        "dice=random.randrange(6)+1\n",
        "print(\"주사위 눈은\"+str(dice)+\"입니다\")\n",
        "print(\"게임이 종료되었습니다.\")"
      ],
      "execution_count": null,
      "outputs": [
        {
          "output_type": "stream",
          "name": "stdout",
          "text": [
            "주사위 던지기 게임을 시작합니다.\n",
            "주사위 눈은3입니다\n",
            "게임이 종료되었습니다.\n"
          ]
        }
      ]
    },
    {
      "cell_type": "code",
      "metadata": {
        "colab": {
          "base_uri": "https://localhost:8080/"
        },
        "id": "pqcPaHxzc-po",
        "outputId": "4ea8a534-26b0-4818-c6da-23cf1018c55b"
      },
      "source": [
        "import random\n",
        "time=random.randint(1,24)\n",
        "print(\"좋은 아침입니다. 지금 시작은\"+str(time)+\"시입니다\")\n",
        "sunny=random.choice([True,False])\n",
        "if sunny:\n",
        "  print(\"현재 날씨가 화창합니다.\")\n",
        "else:\n",
        "  print(\"현재 날씨가 화창하지 않습니다.\") \n",
        "\n",
        "if time>=6 and time<9 and True:\n",
        "  print(\"종달새가 노래를 한다.\")\n",
        "elif time>=14 and time<16 and True:\n",
        "  print(\"종달새가 노래를 한다.\")\n",
        "else:\n",
        "  print(\"종달새가 노래를 하지 않는다\")"
      ],
      "execution_count": null,
      "outputs": [
        {
          "output_type": "stream",
          "name": "stdout",
          "text": [
            "좋은 아침입니다. 지금 시작은23시입니다\n",
            "현재 날씨가 화창하지 않습니다.\n",
            "종달새가 노래를 하지 않는다\n"
          ]
        }
      ]
    },
    {
      "cell_type": "code",
      "metadata": {
        "colab": {
          "base_uri": "https://localhost:8080/"
        },
        "id": "_gEPzCJ8dEen",
        "outputId": "5043a5b1-162a-4fb3-f01a-2583d7d94c55"
      },
      "source": [
        "id=\"ilovepython\"\n",
        "pw=\"123456\"\n",
        "s=input(\"아이디를 입력하시오:\")\n",
        "if s==id:\n",
        "  p=input(\"패스워드를 입력하시오:\")\n",
        "  if p ==pw:\n",
        "    print(\"환영합니다.\")\n",
        "  else:\n",
        "    print(\"비밀번호가 잘못되었습니다.\")\n",
        "else:\n",
        "  print(\"아이디를 찾을 수 없습니다.\")"
      ],
      "execution_count": null,
      "outputs": [
        {
          "output_type": "stream",
          "name": "stdout",
          "text": [
            "아이디를 입력하시오:ilovepython\n",
            "패스워드를 입력하시오:123456\n",
            "환영합니다.\n"
          ]
        }
      ]
    },
    {
      "cell_type": "code",
      "metadata": {
        "colab": {
          "base_uri": "https://localhost:8080/"
        },
        "id": "yzwkBBCUdL7b",
        "outputId": "cacd5169-35df-45b0-c770-87c67c0b9ca8"
      },
      "source": [
        "import random\n",
        "\n",
        "options=[\"왼쪽 상단\",\"왼쪽 하단\",\"중앙\",\"오른쪽 상단\",\"오른쪽 하단\"]\n",
        "computer_choice=random.choice(options)\n",
        "user_choice=input(\"어디를 수비하시겠어요?(왼쪽 상단, 왼쪽 하단, 중앙, 오른쪽 상단, 오른쪽 하단)\")\n",
        "if computer_choice==user_choice:\n",
        "  print(\"수비에 성공하셨습니다\")\n",
        "else:\n",
        "  print(\"페널티 킥이 성공하였습니다.\")"
      ],
      "execution_count": null,
      "outputs": [
        {
          "output_type": "stream",
          "name": "stdout",
          "text": [
            "어디를 수비하시겠어요?(왼쪽 상단, 왼쪽 하단, 중앙, 오른쪽 상단, 오른쪽 하단)중앙\n",
            "수비에 성공하셨습니다\n"
          ]
        }
      ]
    }
  ]
}