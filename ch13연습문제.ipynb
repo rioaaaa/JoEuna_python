{
  "nbformat": 4,
  "nbformat_minor": 0,
  "metadata": {
    "colab": {
      "name": "Untitled16.ipynb",
      "provenance": [],
      "authorship_tag": "ABX9TyPdTcIIpYCTMl+5DmVI5eFe",
      "include_colab_link": true
    },
    "kernelspec": {
      "name": "python3",
      "display_name": "Python 3"
    },
    "language_info": {
      "name": "python"
    }
  },
  "cells": [
    {
      "cell_type": "markdown",
      "metadata": {
        "id": "view-in-github",
        "colab_type": "text"
      },
      "source": [
        "<a href=\"https://colab.research.google.com/github/rioaaaa/JoEuna_python/blob/main/ch13%EC%97%B0%EC%8A%B5%EB%AC%B8%EC%A0%9C.ipynb\" target=\"_parent\"><img src=\"https://colab.research.google.com/assets/colab-badge.svg\" alt=\"Open In Colab\"/></a>"
      ]
    },
    {
      "cell_type": "code",
      "execution_count": 2,
      "metadata": {
        "colab": {
          "base_uri": "https://localhost:8080/"
        },
        "id": "Q0mZsXwYLQYF",
        "outputId": "fd4ddcd9-ed5a-4107-9b9d-4e4bcde36500"
      },
      "outputs": [
        {
          "output_type": "stream",
          "name": "stdout",
          "text": [
            "반지름:  100 원의 면적:  31415.92 원의 둘레:  628.3184\n"
          ]
        }
      ],
      "source": [
        "class Circle:\n",
        " def __init__(self, radius):\n",
        "   self.radius = radius\n",
        " def calcPerimeter(self):\n",
        "   return 2 * 3.141592 * self.radius \n",
        " def calcArea(self):\n",
        "   return 3.141592* self.radius*self.radius \n",
        "circle = Circle(100)\n",
        "print(\"반지름: \", circle.radius,\n",
        " \"원의 면적: \", circle.calcArea(),\n",
        " \"원의 둘레: \", circle.calcPerimeter() );"
      ]
    },
    {
      "cell_type": "code",
      "source": [
        "class TV:\n",
        " def __init__(self):\n",
        "    self.channel = 1\n",
        "    ...\n",
        " def turnOn(self):\n",
        "    ..."
      ],
      "metadata": {
        "id": "aO1BjHAuLkdv"
      },
      "execution_count": 7,
      "outputs": []
    },
    {
      "cell_type": "code",
      "source": [
        "class TV:\n",
        " def __init__(self):\n",
        "   self.channel = 1\n",
        "   self.volume = 0 \n",
        "   self.on = False \n",
        " def turnOn(self):\n",
        "   self.on = True\n",
        " def turnOff(self):\n",
        "   self.on = False\n",
        " def setVolume(self, volume):\n",
        "   self.volume = volume\n",
        " def setChannel(self, channel):\n",
        "   self.channel = channel\n",
        "tv = TV()\n",
        "tv.turnOn()\n",
        "tv.setChannel(11)\n",
        "tv.setVolume(6)\n",
        "print(\"TV의 채널: \", tv.channel, \"TV의 음량:\", tv.volume);"
      ],
      "metadata": {
        "colab": {
          "base_uri": "https://localhost:8080/"
        },
        "id": "lTQ9R5cDMBsF",
        "outputId": "f8b30dcd-7e64-4939-b632-76e07b614ca4"
      },
      "execution_count": 8,
      "outputs": [
        {
          "output_type": "stream",
          "name": "stdout",
          "text": [
            "TV의 채널:  11 TV의 음량: 6\n"
          ]
        }
      ]
    }
  ]
}