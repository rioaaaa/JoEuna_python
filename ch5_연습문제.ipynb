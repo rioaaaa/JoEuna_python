{
  "nbformat": 4,
  "nbformat_minor": 0,
  "metadata": {
    "colab": {
      "name": "ch5 연습문제.ipynb",
      "provenance": [],
      "collapsed_sections": [],
      "authorship_tag": "ABX9TyM5ijUaF6FfZbxsLZpRqB/g",
      "include_colab_link": true
    },
    "kernelspec": {
      "name": "python3",
      "display_name": "Python 3"
    },
    "language_info": {
      "name": "python"
    }
  },
  "cells": [
    {
      "cell_type": "markdown",
      "metadata": {
        "id": "view-in-github",
        "colab_type": "text"
      },
      "source": [
        "<a href=\"https://colab.research.google.com/github/rioaaaa/JoEuna_python/blob/main/ch5_%EC%97%B0%EC%8A%B5%EB%AC%B8%EC%A0%9C.ipynb\" target=\"_parent\"><img src=\"https://colab.research.google.com/assets/colab-badge.svg\" alt=\"Open In Colab\"/></a>"
      ]
    },
    {
      "cell_type": "code",
      "metadata": {
        "colab": {
          "base_uri": "https://localhost:8080/"
        },
        "id": "mGtXnmuV3YDJ",
        "outputId": "e61a99fe-ce99-4a64-9b10-50b194e1ebaf"
      },
      "source": [
        "age=20\n",
        "if age<20:\n",
        "  print('20살 미만')\n",
        "else:\n",
        "  print('20살 이상')  "
      ],
      "execution_count": null,
      "outputs": [
        {
          "output_type": "stream",
          "name": "stdout",
          "text": [
            "20살 이상\n"
          ]
        }
      ]
    },
    {
      "cell_type": "code",
      "metadata": {
        "id": "QA8iOIiv4SNq"
      },
      "source": [
        "age = 20\n",
        "if age >= 30 and age <= 50:\n",
        "   print('30살 이상이고 50살 이하')"
      ],
      "execution_count": null,
      "outputs": []
    },
    {
      "cell_type": "code",
      "metadata": {
        "colab": {
          "base_uri": "https://localhost:8080/"
        },
        "id": "vx5e-sMN4hvp",
        "outputId": "a9c393f1-44b8-4f36-9968-9391facfb528"
      },
      "source": [
        "temp = int(input(\"현재 온도를 입력하시오: \"))\n",
        "if temp >= 25:\n",
        " print(\"반바지를 입으세요\")\n",
        "else:\n",
        " print(\"긴바지를 입으세요\")"
      ],
      "execution_count": null,
      "outputs": [
        {
          "output_type": "stream",
          "name": "stdout",
          "text": [
            "현재 온도를 입력하시오: 25\n",
            "반바지를 입으세요\n"
          ]
        }
      ]
    },
    {
      "cell_type": "code",
      "metadata": {
        "colab": {
          "base_uri": "https://localhost:8080/"
        },
        "id": "dWPf1HuN4nt3",
        "outputId": "13c7c30e-3a0c-4173-a225-76d4440e8007"
      },
      "source": [
        "score = int(input(\"성적을 입력하시오: \"))\n",
        "if score >= 90:\n",
        " print(\"A학점입니다.\")\n",
        "elif score >= 80:\n",
        " print(\"B학점입니다.\")\n",
        "elif score >= 70:\n",
        " print(\"C학점입니다.\")\n",
        "elif score >= 60:\n",
        " print(\"D학점입니다.\")\n",
        "else :\n",
        " print(\"F학점입니다.\")"
      ],
      "execution_count": null,
      "outputs": [
        {
          "output_type": "stream",
          "name": "stdout",
          "text": [
            "성적을 입력하시오: 100\n",
            "A학점입니다.\n"
          ]
        }
      ]
    },
    {
      "cell_type": "code",
      "metadata": {
        "colab": {
          "base_uri": "https://localhost:8080/"
        },
        "id": "oDYySISX4uIU",
        "outputId": "8b2a2829-5929-4ff3-d705-4241ba02d1dd"
      },
      "source": [
        "import random\n",
        "x = random.randint(1, 100)\n",
        "y = random.randint(1, 100)\n",
        "ans = int(input(str(x)+\"-\"+str(y)+\"=\"))\n",
        "if ans == x -y :\n",
        " print(\"맞았습니다.\")\n",
        "else :\n",
        " print(\"틀렸습니다.\")"
      ],
      "execution_count": null,
      "outputs": [
        {
          "output_type": "stream",
          "name": "stdout",
          "text": [
            "65-72=-7\n",
            "맞았습니다.\n"
          ]
        }
      ]
    },
    {
      "cell_type": "code",
      "metadata": {
        "colab": {
          "base_uri": "https://localhost:8080/"
        },
        "id": "L4CKTIH046bp",
        "outputId": "f65649f0-838b-42fb-aef2-4b024b63d80c"
      },
      "source": [
        "n = int(input(\"정수를 입력하시오: \"))\n",
        "if n%2==0 and n%3==0:\n",
        " print(\"2와 3으로 나누어 떨어집니다.\")\n",
        "else :\n",
        " print(\"2와 3으로 나누어 떨어지지 않습니다.\")"
      ],
      "execution_count": null,
      "outputs": [
        {
          "output_type": "stream",
          "name": "stdout",
          "text": [
            "정수를 입력하시오: 5\n",
            "2와 3으로 나누어 떨어지지 않습니다.\n"
          ]
        }
      ]
    },
    {
      "cell_type": "code",
      "metadata": {
        "colab": {
          "base_uri": "https://localhost:8080/"
        },
        "id": "hpzR9gnr5BXR",
        "outputId": "c9cfee6e-7cfb-455d-b4d5-ecebb9c3f472"
      },
      "source": [
        "import random\n",
        "solution = random.randint(0, 99)\n",
        "user = int(input(\"복권번호를 입력하시요(0에서 99사이): \"))\n",
        "digit1 = solution // 10\n",
        "digit2 = solution % 10\n",
        "u_digit1 = user // 10\n",
        "u_digit2 = user % 10\n",
        "print(\"당첨번호는\", solution, \"입니다.\")\n",
        "if (digit1 == u_digit1 and digit2 == u_digit2):\n",
        " print(\"상금은 100만원입니다.\")\n",
        "elif (digit1 == u_digit1\n",
        " or digit1 == u_digit2\n",
        " or digit2 == u_digit1\n",
        " or digit2 == u_digit2):\n",
        " print(\"상금은 50만원입니다.\")\n",
        "else:\n",
        " print(\"상금은 없습니다.\")"
      ],
      "execution_count": null,
      "outputs": [
        {
          "output_type": "stream",
          "name": "stdout",
          "text": [
            "복권번호를 입력하시요(0에서 99사이): 64\n",
            "당첨번호는 4 입니다.\n",
            "상금은 50만원입니다.\n"
          ]
        }
      ]
    }
  ]
}