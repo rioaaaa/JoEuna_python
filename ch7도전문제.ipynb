{
  "nbformat": 4,
  "nbformat_minor": 0,
  "metadata": {
    "colab": {
      "name": "Untitled7.ipynb",
      "provenance": [],
      "authorship_tag": "ABX9TyM8E0KvVXOoPxkP3d+o9DaS",
      "include_colab_link": true
    },
    "kernelspec": {
      "name": "python3",
      "display_name": "Python 3"
    },
    "language_info": {
      "name": "python"
    }
  },
  "cells": [
    {
      "cell_type": "markdown",
      "metadata": {
        "id": "view-in-github",
        "colab_type": "text"
      },
      "source": [
        "<a href=\"https://colab.research.google.com/github/rioaaaa/JoEuna_python/blob/main/ch7%EB%8F%84%EC%A0%84%EB%AC%B8%EC%A0%9C.ipynb\" target=\"_parent\"><img src=\"https://colab.research.google.com/assets/colab-badge.svg\" alt=\"Open In Colab\"/></a>"
      ]
    },
    {
      "cell_type": "markdown",
      "metadata": {
        "id": "A1FB9eC9mcBb"
      },
      "source": [
        "모두 터틀 그래픽 문제라 핵심정리로 대체하겠습니다.\n",
        "우리는 파이썬의 def 키워드를 이용하여 함수를 정의할 수 있다.\n",
        "함수가 값을 반환하려면 return 키워드를 사용하면 된다.\n",
        "함수 안에서 생성되는 변수를 지역변수라고 하고, 함수의 외부에서 생성되는 변수를 전역변수라고 한다."
      ]
    }
  ]
}