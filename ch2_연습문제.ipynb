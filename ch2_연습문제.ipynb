{
  "nbformat": 4,
  "nbformat_minor": 0,
  "metadata": {
    "colab": {
      "name": "ch2 연습문제.ipynb",
      "provenance": [],
      "collapsed_sections": [],
      "authorship_tag": "ABX9TyMdewKxpHLmptHdi/2XEosj",
      "include_colab_link": true
    },
    "kernelspec": {
      "name": "python3",
      "display_name": "Python 3"
    },
    "language_info": {
      "name": "python"
    }
  },
  "cells": [
    {
      "cell_type": "markdown",
      "metadata": {
        "id": "view-in-github",
        "colab_type": "text"
      },
      "source": [
        "<a href=\"https://colab.research.google.com/github/rioaaaa/JoEuna_python/blob/main/ch2_%EC%97%B0%EC%8A%B5%EB%AC%B8%EC%A0%9C.ipynb\" target=\"_parent\"><img src=\"https://colab.research.google.com/assets/colab-badge.svg\" alt=\"Open In Colab\"/></a>"
      ]
    },
    {
      "cell_type": "code",
      "metadata": {
        "colab": {
          "base_uri": "https://localhost:8080/"
        },
        "id": "ZtFJuT_EfZBh",
        "outputId": "29778802-5862-445f-f3b8-2835f8172cee"
      },
      "source": [
        "name = input(\"이름을 입력하시오: \")\n",
        "age = int(input(\"나이를 입력하시오: \"))\n",
        "year = 2021-age+100\n",
        "print(name + \"씨는 \" + str(year) + \"년에 100살이시네요!\")"
      ],
      "execution_count": null,
      "outputs": [
        {
          "output_type": "stream",
          "name": "stdout",
          "text": [
            "이름을 입력하시오: 조은아\n",
            "나이를 입력하시오: 20\n",
            "조은아씨는 2101년에 100살이시네요!\n"
          ]
        }
      ]
    },
    {
      "cell_type": "code",
      "metadata": {
        "colab": {
          "base_uri": "https://localhost:8080/"
        },
        "id": "3ApK1gFtfg3k",
        "outputId": "742b5643-9196-483f-8dd7-863f83d8de04"
      },
      "source": [
        "n1 = int(input(\"첫 번째 숫자를 입력하시오: \"))\n",
        "n2 = int(input(\"두 번째 숫자를 입력하시오: \"))\n",
        "n3 = int(input(\"세 번째 숫자를 입력하시오: \"))\n",
        "average = (n1 + n2 + n3) / 3\n",
        "print(n1, n2, n3,\"의 평균은\", average, \"입니다.\")"
      ],
      "execution_count": null,
      "outputs": [
        {
          "output_type": "stream",
          "name": "stdout",
          "text": [
            "첫 번째 숫자를 입력하시오: 50\n",
            "두 번째 숫자를 입력하시오: 89\n",
            "세 번째 숫자를 입력하시오: 74\n",
            "50 89 74 의 평균은 71.0 입니다.\n"
          ]
        }
      ]
    },
    {
      "cell_type": "code",
      "metadata": {
        "colab": {
          "base_uri": "https://localhost:8080/"
        },
        "id": "f-ZwuTqufrVx",
        "outputId": "c7735cb1-e58b-42c2-c8e0-03b826e889ff"
      },
      "source": [
        "radius = int(input(\"반지름을 입력하시오: \"))\n",
        "area = 3.141592 * radius * radius\n",
        "print(\"반지름이\", radius, \"인 원의 넓이 =\", area,\"입니다.\")"
      ],
      "execution_count": null,
      "outputs": [
        {
          "output_type": "stream",
          "name": "stdout",
          "text": [
            "반지름을 입력하시오: 50\n",
            "반지름이 50 인 원의 넓이 = 7853.98 입니다.\n"
          ]
        }
      ]
    }
  ]
}