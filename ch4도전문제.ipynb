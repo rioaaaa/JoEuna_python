{
  "nbformat": 4,
  "nbformat_minor": 0,
  "metadata": {
    "colab": {
      "name": "ch4도전문제.ipynb",
      "provenance": [],
      "collapsed_sections": [],
      "authorship_tag": "ABX9TyPxcOXPeDxZcv9hGp1SU/vX",
      "include_colab_link": true
    },
    "kernelspec": {
      "name": "python3",
      "display_name": "Python 3"
    },
    "language_info": {
      "name": "python"
    }
  },
  "cells": [
    {
      "cell_type": "markdown",
      "metadata": {
        "id": "view-in-github",
        "colab_type": "text"
      },
      "source": [
        "<a href=\"https://colab.research.google.com/github/rioaaaa/JoEuna_python/blob/main/ch4%EB%8F%84%EC%A0%84%EB%AC%B8%EC%A0%9C.ipynb\" target=\"_parent\"><img src=\"https://colab.research.google.com/assets/colab-badge.svg\" alt=\"Open In Colab\"/></a>"
      ]
    },
    {
      "cell_type": "code",
      "metadata": {
        "colab": {
          "base_uri": "https://localhost:8080/"
        },
        "id": "QdXcajApbs5P",
        "outputId": "156b38a7-4b2c-4c9e-e5cc-f8dde2e017be"
      },
      "source": [
        "print(\"안녕하세요?\")\n",
        "name=input(\"이름이 어떻게 되시나요?\")\n",
        "print(\"만나서 반갑습니다.\"+name+\"씨\")\n",
        "print(\"이름의 길이는 다음과 같군요:\", end=\"\")\n",
        "print(len(name))\n",
        "age=int(input(\"나이가 어떻게 되나요?\"))\n",
        "print(\"내년이면\",str(age+1),\"이 되시는군요.\")\n",
        "hobby=input(\"취미가 무엇인가요?\")\n",
        "print(\"네 저도\"+ hobby + \"좋아합니다.\")"
      ],
      "execution_count": null,
      "outputs": [
        {
          "output_type": "stream",
          "name": "stdout",
          "text": [
            "안녕하세요?\n",
            "이름이 어떻게 되시나요?조은아\n",
            "만나서 반갑습니다.조은아씨\n",
            "이름의 길이는 다음과 같군요:3\n",
            "나이가 어떻게 되나요?20\n",
            "내년이면 21 이 되시는군요.\n",
            "취미가 무엇인가요?누워있기\n",
            "네 저도누워있기좋아합니다.\n"
          ]
        }
      ]
    },
    {
      "cell_type": "code",
      "metadata": {
        "colab": {
          "base_uri": "https://localhost:8080/"
        },
        "id": "SYrqT8Wxb3Ts",
        "outputId": "fea93453-d881-46a6-874e-c5294d357430"
      },
      "source": [
        "year=input(\"오늘의 연도를 입력하시오:\")\n",
        "month=input(\"오늘의 월을 입력하시오:\")\n",
        "date=input(\"오늘의 일을 입력하시오:\")\n",
        "\n",
        "print(month+\"/\",date+\"/\",year)"
      ],
      "execution_count": null,
      "outputs": [
        {
          "output_type": "stream",
          "name": "stdout",
          "text": [
            "오늘의 연도를 입력하시오:2021\n",
            "오늘의 월을 입력하시오:11\n",
            "오늘의 일을 입력하시오:1\n",
            "11/ 1/ 2021\n"
          ]
        }
      ]
    },
    {
      "cell_type": "code",
      "metadata": {
        "colab": {
          "base_uri": "https://localhost:8080/"
        },
        "id": "aXt1p28ycErD",
        "outputId": "e4244706-7ba4-45a4-b14d-4385504bf88e"
      },
      "source": [
        "import time\n",
        "\n",
        "now=time.time()\n",
        "thisYear=int(1970+now//(365*24*3600))\n",
        "\n",
        "print(\"올해는\",thisYear,\"입니다.\")\n",
        "age=int(input(\"몇 살이신지요?\"))\n",
        "print(\"2050년에는\",(age+2050-thisYear),\"살이시군요\")"
      ],
      "execution_count": null,
      "outputs": [
        {
          "output_type": "stream",
          "name": "stdout",
          "text": [
            "올해는 2021 입니다.\n",
            "몇 살이신지요?20\n",
            "2050년에는 49 살이시군요\n"
          ]
        }
      ]
    }
  ]
}