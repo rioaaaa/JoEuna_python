{
  "nbformat": 4,
  "nbformat_minor": 0,
  "metadata": {
    "colab": {
      "name": "ch3도전문제.ipynb",
      "provenance": [],
      "collapsed_sections": [],
      "authorship_tag": "ABX9TyO+eOxmB7cW9CG8KU9Y/SYz",
      "include_colab_link": true
    },
    "kernelspec": {
      "name": "python3",
      "display_name": "Python 3"
    },
    "language_info": {
      "name": "python"
    }
  },
  "cells": [
    {
      "cell_type": "markdown",
      "metadata": {
        "id": "view-in-github",
        "colab_type": "text"
      },
      "source": [
        "<a href=\"https://colab.research.google.com/github/rioaaaa/JoEuna_python/blob/main/ch3%EB%8F%84%EC%A0%84%EB%AC%B8%EC%A0%9C.ipynb\" target=\"_parent\"><img src=\"https://colab.research.google.com/assets/colab-badge.svg\" alt=\"Open In Colab\"/></a>"
      ]
    },
    {
      "cell_type": "code",
      "metadata": {
        "colab": {
          "base_uri": "https://localhost:8080/"
        },
        "id": "GEwDCvVja0gk",
        "outputId": "f2f44b1d-605a-4b34-92e8-106ae6b92d8d"
      },
      "source": [
        "total=100000\n",
        "americano_price=2000\n",
        "cafelatte_price=3000\n",
        "capucino_price=3500\n",
        "\n",
        "americanos=int(input(\"아메리카노 판매 개수:\"))\n",
        "cafelattes=int(input(\"카페라테 판매 개수:\"))\n",
        "capucinos=int(input(\"카푸치노 판매 개수:\"))\n",
        "\n",
        "sales= americanos*americano_price\n",
        "sales=sales+cafelattes*cafelatte_price\n",
        "sales=sales+capucinos*capucino_price\n",
        "print(\"총 매출은\", sales, \"입니다.\")\n",
        "\n",
        "if (total<sales): print(\"흑자입니다.\")\n",
        "else: print(\"적자입니다.\")"
      ],
      "execution_count": null,
      "outputs": [
        {
          "output_type": "stream",
          "name": "stdout",
          "text": [
            "아메리카노 판매 개수:10\n",
            "카페라테 판매 개수:15\n",
            "카푸치노 판매 개수:7\n",
            "총 매출은 89500 입니다.\n",
            "적자입니다.\n"
          ]
        }
      ]
    },
    {
      "cell_type": "code",
      "metadata": {
        "colab": {
          "base_uri": "https://localhost:8080/"
        },
        "id": "dA14uBBTbFOI",
        "outputId": "efc20288-8e30-4c04-e566-bfb6d91c9436"
      },
      "source": [
        "ctemp=int(input(\"섭씨온도:\"))\n",
        "ftemp=9/5*ctemp+32\n",
        "print(\"화씨온도:\",ftemp)"
      ],
      "execution_count": null,
      "outputs": [
        {
          "output_type": "stream",
          "name": "stdout",
          "text": [
            "섭씨온도:75\n",
            "화씨온도: 167.0\n"
          ]
        }
      ]
    },
    {
      "cell_type": "code",
      "metadata": {
        "colab": {
          "base_uri": "https://localhost:8080/"
        },
        "id": "ulUNvkukbSi8",
        "outputId": "f833daac-f42b-4b1f-9f39-03a487c9a2b4"
      },
      "source": [
        "money=int(input(\"투입한 돈:\"))\n",
        "price= int(input(\"물건 값:\"))\n",
        "\n",
        "change=money-price\n",
        "print(\"거스름돈:\",change)\n",
        "coin500s=change//500\n",
        "change=change%500\n",
        "coin100s=change//100\n",
        "change=change%100\n",
        "coin50s=change//50\n",
        "change=change%50\n",
        "coin10s=change//10\n",
        "change=change%10\n",
        "print(\"500원 동전의 개수:\", coin500s)\n",
        "print(\"100원 동전의 개수:\", coin100s)\n",
        "print(\"50원 동전의 개수:\", coin50s)\n",
        "print(\"10원 동전의 개수:\", coin10s)"
      ],
      "execution_count": null,
      "outputs": [
        {
          "output_type": "stream",
          "name": "stdout",
          "text": [
            "투입한 돈:8000\n",
            "물건 값:7500\n",
            "거스름돈: 500\n",
            "500원 동전의 개수: 1\n",
            "100원 동전의 개수: 0\n",
            "50원 동전의 개수: 0\n",
            "10원 동전의 개수: 0\n"
          ]
        }
      ]
    },
    {
      "cell_type": "code",
      "metadata": {
        "colab": {
          "base_uri": "https://localhost:8080/"
        },
        "id": "hFdyIqdWbcIW",
        "outputId": "5b80338d-261b-4757-87b7-4f712f27e74f"
      },
      "source": [
        "money=int(input(\"투입한 돈:\"))\n",
        "price=int(input(\"물건 값:\"))\n",
        "\n",
        "change=money-price\n",
        "coin500s=change//500\n",
        "change=change%500\n",
        "coin100s=change//100\n",
        "print(\"500원 동전의 개수:\", coin500s)\n",
        "print(\"100원 동전의 개수:\", coin100s)"
      ],
      "execution_count": null,
      "outputs": [
        {
          "output_type": "stream",
          "name": "stdout",
          "text": [
            "투입한 돈:10000\n",
            "물건 값:9800\n",
            "500원 동전의 개수: 0\n",
            "100원 동전의 개수: 2\n"
          ]
        }
      ]
    }
  ]
}