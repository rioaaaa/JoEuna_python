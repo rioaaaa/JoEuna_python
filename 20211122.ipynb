{
  "nbformat": 4,
  "nbformat_minor": 0,
  "metadata": {
    "colab": {
      "name": "Untitled4.ipynb",
      "provenance": [],
      "authorship_tag": "ABX9TyNaUAue2I8jQ1FGRPwVfj12",
      "include_colab_link": true
    },
    "kernelspec": {
      "name": "python3",
      "display_name": "Python 3"
    },
    "language_info": {
      "name": "python"
    }
  },
  "cells": [
    {
      "cell_type": "markdown",
      "metadata": {
        "id": "view-in-github",
        "colab_type": "text"
      },
      "source": [
        "<a href=\"https://colab.research.google.com/github/rioaaaa/JoEuna_python/blob/main/20211122.ipynb\" target=\"_parent\"><img src=\"https://colab.research.google.com/assets/colab-badge.svg\" alt=\"Open In Colab\"/></a>"
      ]
    },
    {
      "cell_type": "code",
      "metadata": {
        "colab": {
          "base_uri": "https://localhost:8080/"
        },
        "id": "X0PX1Q7uC5YK",
        "outputId": "fb55ba9a-7c19-4b84-e4a7-9ca6cbe97d4e"
      },
      "source": [
        "age=20\n",
        "\n",
        "if age<20:\n",
        "  print(\"20세 미만\")\n",
        "else:\n",
        "  print(\"20세 이상\")  "
      ],
      "execution_count": 2,
      "outputs": [
        {
          "output_type": "stream",
          "name": "stdout",
          "text": [
            "20세 이상\n"
          ]
        }
      ]
    },
    {
      "cell_type": "code",
      "metadata": {
        "id": "NDi891KADwRh"
      },
      "source": [
        "age=20\n",
        "\n",
        "if age >= 30 and age <=50:\n",
        "  print(\"30살 이상 50살 이하\")"
      ],
      "execution_count": 4,
      "outputs": []
    },
    {
      "cell_type": "code",
      "metadata": {
        "colab": {
          "base_uri": "https://localhost:8080/"
        },
        "id": "9JKA5DgAEUWp",
        "outputId": "f6796f02-a602-441e-a256-ebbca8cb62ff"
      },
      "source": [
        "temp=int(input(\"현재 온도를 입력하세요:\"))\n",
        "\n",
        "if temp >= 25:\n",
        "  print(\"반바지 입어요.\")\n",
        "else:\n",
        "  print(\"긴바지 입어요.\")  \n"
      ],
      "execution_count": 5,
      "outputs": [
        {
          "output_type": "stream",
          "name": "stdout",
          "text": [
            "현재 온도를 입력하세요:30\n",
            "반바지 입어요.\n"
          ]
        }
      ]
    },
    {
      "cell_type": "code",
      "metadata": {
        "colab": {
          "base_uri": "https://localhost:8080/"
        },
        "id": "VtqsoiDOE8zW",
        "outputId": "41022eb8-a1ce-4326-d534-36fbc756ec91"
      },
      "source": [
        "score=int(input(\"점수를 입력하세요.:\"))\n",
        "\n",
        "if score>= 90:\n",
        "  print(\"A입니다.\")\n",
        "elif score >= 80:\n",
        "  print(\"B입니다.\")\n",
        "elif score >= 70:\n",
        "  print(\"C입니다.\")\n",
        "elif score >= 60:\n",
        "  print(\"D입니다.\") \n",
        "else:\n",
        "  print(\"F입니다\")      "
      ],
      "execution_count": 7,
      "outputs": [
        {
          "output_type": "stream",
          "name": "stdout",
          "text": [
            "점수를 입력하세요.:95\n",
            "A입니다.\n"
          ]
        }
      ]
    },
    {
      "cell_type": "code",
      "metadata": {
        "colab": {
          "base_uri": "https://localhost:8080/"
        },
        "id": "x7CpeIvyF_G7",
        "outputId": "355b6ff7-8d17-4ed1-af62-9b500d6e8981"
      },
      "source": [
        "import random\n",
        "x=random.randint(1,100)\n",
        "y=random.randint(1,100)\n",
        "\n",
        "answer= int(input(str(x)+\"-\"+str(y)+\"=\"))\n",
        "if answer == x-y:\n",
        "  print(\"맞았습니다.\")\n",
        "else:\n",
        "  print(\"틀렸습니다.\")\n",
        "    "
      ],
      "execution_count": 8,
      "outputs": [
        {
          "output_type": "stream",
          "name": "stdout",
          "text": [
            "69-7=62\n",
            "맞았습니다.\n"
          ]
        }
      ]
    },
    {
      "cell_type": "code",
      "metadata": {
        "colab": {
          "base_uri": "https://localhost:8080/"
        },
        "id": "sMUgAqWPIpVx",
        "outputId": "ca4f2b18-1d72-4f15-8b3c-5264b2a07516"
      },
      "source": [
        "n= int(input(\"정수를 입력하시오:\"))\n",
        "if n%2 == 0 and n%3==0:\n",
        "  print(\"2와 3으로 나누어 떨어져요.\")\n",
        "else:\n",
        "  print(\"안 돼요\") "
      ],
      "execution_count": 9,
      "outputs": [
        {
          "output_type": "stream",
          "name": "stdout",
          "text": [
            "정수를 입력하시오:60\n",
            "2와 3으로 나누어 떨어져요.\n"
          ]
        }
      ]
    },
    {
      "cell_type": "code",
      "metadata": {
        "colab": {
          "base_uri": "https://localhost:8080/"
        },
        "id": "Q19p8Bw3L5Si",
        "outputId": "465dd2d3-9b6f-43fd-c08e-76ecafc6518f"
      },
      "source": [
        "for i in range(2,101):\n",
        "  if i%2==0:\n",
        "    print(i,end=\"\")"
      ],
      "execution_count": 10,
      "outputs": [
        {
          "output_type": "stream",
          "name": "stdout",
          "text": [
            "2468101214161820222426283032343638404244464850525456586062646668707274767880828486889092949698100"
          ]
        }
      ]
    }
  ]
}