{
  "nbformat": 4,
  "nbformat_minor": 0,
  "metadata": {
    "colab": {
      "name": "Untitled0.ipynb",
      "provenance": [],
      "authorship_tag": "ABX9TyNFd3G6I/+dAcnaC+QG7E5l",
      "include_colab_link": true
    },
    "kernelspec": {
      "name": "python3",
      "display_name": "Python 3"
    },
    "language_info": {
      "name": "python"
    }
  },
  "cells": [
    {
      "cell_type": "markdown",
      "metadata": {
        "id": "view-in-github",
        "colab_type": "text"
      },
      "source": [
        "<a href=\"https://colab.research.google.com/github/rioaaaa/JoEuna_python/blob/main/5%EC%9E%A5%20%EC%A1%B0%EA%B1%B4%EB%AC%B8%20%EC%98%88%EC%A0%9C%231%20%EB%B3%80%ED%98%95%20%EA%B3%BC%EC%A0%9C.ipynb\" target=\"_parent\"><img src=\"https://colab.research.google.com/assets/colab-badge.svg\" alt=\"Open In Colab\"/></a>"
      ]
    },
    {
      "cell_type": "markdown",
      "metadata": {
        "id": "4u42QwTnUgXM"
      },
      "source": [
        "5장 조건문 예제 #1 변형"
      ]
    },
    {
      "cell_type": "code",
      "metadata": {
        "colab": {
          "base_uri": "https://localhost:8080/"
        },
        "id": "juGat5tuUnPu",
        "outputId": "4fc63fce-ae88-4b33-e80f-11f29e5a5e9c"
      },
      "source": [
        "score = int(input(\"성적을 입력하시오: \"))\n",
        "if 100>= score >=95:\n",
        "  print(\"A+입니다.\")\n",
        "elif 94 >= score >=90:\n",
        "  print(\"A0입니다.\")\n",
        "elif 89 >= score >=85:\n",
        "  print(\"B+입니다.\")\n",
        "elif 84 >= score >=80:\n",
        "  print(\"B0입니다.\")\n",
        "elif 79 >= score >=75:\n",
        "  print(\"C+입니다.\")\n",
        "elif 74 >= score >=70:\n",
        "  print(\"C0입니다.\")\n",
        "elif 69 >= score >=65:\n",
        "  print(\"D+입니다.\")\n",
        "elif 64 >= score >=60:\n",
        "  print(\"D0입니다.\")\n",
        "elif 59 >= score >=0:\n",
        "  print(\"F입니다.\")    "
      ],
      "execution_count": 4,
      "outputs": [
        {
          "output_type": "stream",
          "name": "stdout",
          "text": [
            "성적을 입력하시오: 95\n",
            "A+입니다.\n"
          ]
        }
      ]
    }
  ]
}