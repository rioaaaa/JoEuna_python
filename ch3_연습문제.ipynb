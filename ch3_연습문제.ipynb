{
  "nbformat": 4,
  "nbformat_minor": 0,
  "metadata": {
    "colab": {
      "name": "ch3 연습문제.ipynb",
      "provenance": [],
      "collapsed_sections": [],
      "authorship_tag": "ABX9TyPmA9C17aWaSwI1IecH8zZd",
      "include_colab_link": true
    },
    "kernelspec": {
      "name": "python3",
      "display_name": "Python 3"
    },
    "language_info": {
      "name": "python"
    }
  },
  "cells": [
    {
      "cell_type": "markdown",
      "metadata": {
        "id": "view-in-github",
        "colab_type": "text"
      },
      "source": [
        "<a href=\"https://colab.research.google.com/github/rioaaaa/JoEuna_python/blob/main/ch3_%EC%97%B0%EC%8A%B5%EB%AC%B8%EC%A0%9C.ipynb\" target=\"_parent\"><img src=\"https://colab.research.google.com/assets/colab-badge.svg\" alt=\"Open In Colab\"/></a>"
      ]
    },
    {
      "cell_type": "code",
      "metadata": {
        "colab": {
          "base_uri": "https://localhost:8080/"
        },
        "id": "R7C_9cmlgN-v",
        "outputId": "24d231f2-cb9d-48a4-dfcc-f4950560aa29"
      },
      "source": [
        "x = int(input(\"x: \"))\n",
        "y = int(input(\"y: \"))\n",
        "print(\"두수의 합: \", x+y)\n",
        "print(\"두수의 차: \", x-y)\n",
        "print(\"두수의 곱: \", x*y)\n",
        "print(\"두수의 평균: \", (x+y)/2)\n",
        "print(\"큰수: \", max(x, y))\n",
        "print(\"작은수: \", min(x, y))"
      ],
      "execution_count": null,
      "outputs": [
        {
          "output_type": "stream",
          "name": "stdout",
          "text": [
            "x: 15\n",
            "y: 60\n",
            "두수의 합:  75\n",
            "두수의 차:  -45\n",
            "두수의 곱:  900\n",
            "두수의 평균:  37.5\n",
            "큰수:  60\n",
            "작은수:  15\n"
          ]
        }
      ]
    },
    {
      "cell_type": "code",
      "metadata": {
        "colab": {
          "base_uri": "https://localhost:8080/"
        },
        "id": "rp2qKFcQgckC",
        "outputId": "4e00b244-8a92-448a-935e-45918ea152f0"
      },
      "source": [
        "r = float(input(\"r: \"))\n",
        "h = float(input(\"h: \"))\n",
        "vol = 3.141592*r**2 * h\n",
        "print(\"원기둥의 부피: \", vol)"
      ],
      "execution_count": null,
      "outputs": [
        {
          "output_type": "stream",
          "name": "stdout",
          "text": [
            "r: 4\n",
            "h: 8\n",
            "원기둥의 부피:  402.123776\n"
          ]
        }
      ]
    },
    {
      "cell_type": "code",
      "metadata": {
        "colab": {
          "base_uri": "https://localhost:8080/"
        },
        "id": "oOtozPs_gqSF",
        "outputId": "c54029a0-1da4-4b23-f316-2b3a5557850a"
      },
      "source": [
        "number = int(input(\"정수를 입력하시오: \"))\n",
        "sum = 0\n",
        "sum = sum + number % 10\n",
        "number = number // 10\n",
        "sum = sum + number % 10\n",
        "number = number // 10\n",
        "sum = sum + number % 10\n",
        "number = number // 10\n",
        "sum = sum + number % 10\n",
        "number = number // 10\n",
        "print(\"자리수의 합: \", str(sum))"
      ],
      "execution_count": null,
      "outputs": [
        {
          "output_type": "stream",
          "name": "stdout",
          "text": [
            "정수를 입력하시오: 7894561\n",
            "자리수의 합:  16\n"
          ]
        }
      ]
    },
    {
      "cell_type": "code",
      "metadata": {
        "colab": {
          "base_uri": "https://localhost:8080/"
        },
        "id": "is9do_pdgyg2",
        "outputId": "26c18f8a-a80c-4075-9781-be99361cba48"
      },
      "source": [
        "x1 = int(input(\"x1: \"))\n",
        "y1 = int(input(\"y1: \"))\n",
        "x2 = int(input(\"x2: \"))\n",
        "y2 = int(input(\"y2: \"))\n",
        "dist = ( (x2 - x1)**2 + (y2 - y1)**2 )**0.5\n",
        "print(\"두점 사이의 거리=\", dist)"
      ],
      "execution_count": null,
      "outputs": [
        {
          "output_type": "stream",
          "name": "stdout",
          "text": [
            "x1: 7\n",
            "y1: 15\n",
            "x2: 13\n",
            "y2: 19\n",
            "두점 사이의 거리= 7.211102550927978\n"
          ]
        }
      ]
    },
    {
      "cell_type": "code",
      "metadata": {
        "colab": {
          "base_uri": "https://localhost:8080/"
        },
        "id": "b5G82II71Tlm",
        "outputId": "b559fe34-2b45-4ab1-cda7-fa54bdb249f3"
      },
      "source": [
        "import time\n",
        "fseconds = time.time()\n",
        "total_sec = int(fseconds)\n",
        "total_min = total_sec // 60\n",
        "minute = total_min % 60\n",
        "total_hour = total_min // 60\n",
        "hour = total_hour % 24\n",
        "print(\"현재 시간(영국 그리니치 시각): \" + str(hour) + \"시\"+ str(minute) + \"분\")"
      ],
      "execution_count": null,
      "outputs": [
        {
          "output_type": "stream",
          "name": "stdout",
          "text": [
            "현재 시간(영국 그리니치 시각): 9시29분\n"
          ]
        }
      ]
    },
    {
      "cell_type": "code",
      "metadata": {
        "colab": {
          "base_uri": "https://localhost:8080/"
        },
        "id": "MoiKzjs_1YmS",
        "outputId": "dbc4eb54-32f3-4663-8918-d756a6c579bd"
      },
      "source": [
        "mass = float(input(\"물체의 무게를 입력하시오(킬로그램): \"))\n",
        "velocity = float(input(\"물체의 속도를 입력하시오(미터/초): \"))\n",
        "energy = 0.5 * mass * velocity **2\n",
        "print(\"물체는 \" + str(energy) + \" (줄)의 에너지를 가지고 있다.\")"
      ],
      "execution_count": null,
      "outputs": [
        {
          "output_type": "stream",
          "name": "stdout",
          "text": [
            "물체의 무게를 입력하시오(킬로그램): 70\n",
            "물체의 속도를 입력하시오(미터/초): 2\n",
            "물체는 140.0 (줄)의 에너지를 가지고 있다.\n"
          ]
        }
      ]
    }
  ]
}