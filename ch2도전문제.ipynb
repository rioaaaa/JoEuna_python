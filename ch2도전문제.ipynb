{
  "nbformat": 4,
  "nbformat_minor": 0,
  "metadata": {
    "colab": {
      "name": "ch2도전문제.ipynb",
      "provenance": [],
      "collapsed_sections": [],
      "authorship_tag": "ABX9TyP764YHwy78SgFCsPGTqVsI",
      "include_colab_link": true
    },
    "kernelspec": {
      "name": "python3",
      "display_name": "Python 3"
    },
    "language_info": {
      "name": "python"
    }
  },
  "cells": [
    {
      "cell_type": "markdown",
      "metadata": {
        "id": "view-in-github",
        "colab_type": "text"
      },
      "source": [
        "<a href=\"https://colab.research.google.com/github/rioaaaa/JoEuna_python/blob/main/ch2%EB%8F%84%EC%A0%84%EB%AC%B8%EC%A0%9C.ipynb\" target=\"_parent\"><img src=\"https://colab.research.google.com/assets/colab-badge.svg\" alt=\"Open In Colab\"/></a>"
      ]
    },
    {
      "cell_type": "code",
      "metadata": {
        "colab": {
          "base_uri": "https://localhost:8080/"
        },
        "id": "rNAj34DPaFbV",
        "outputId": "5e198346-26aa-4931-f2c6-b4b34de2fbb8"
      },
      "source": [
        "x=7\n",
        "y=6\n",
        "print(x+y)"
      ],
      "execution_count": null,
      "outputs": [
        {
          "output_type": "stream",
          "name": "stdout",
          "text": [
            "13\n"
          ]
        }
      ]
    },
    {
      "cell_type": "code",
      "metadata": {
        "colab": {
          "base_uri": "https://localhost:8080/"
        },
        "id": "dtIAyboRaTD8",
        "outputId": "df361cec-889a-43d7-8dd4-d302a27db7a1"
      },
      "source": [
        "x= int(input(\"첫 번째 정수를 입력하시오:\"))\n",
        "y= int(input(\"두 번째 정수를 입력하시오:\"))\n",
        "\n",
        "print(x, \"+\", y, \"=\", x+y)\n",
        "print(x, \"-\", y, \"=\", x-y)\n",
        "print(x, \"*\", y, \"=\", x*y)\n",
        "print(x, \"/\", y, \"=\", x/y)"
      ],
      "execution_count": null,
      "outputs": [
        {
          "output_type": "stream",
          "name": "stdout",
          "text": [
            "첫 번째 정수를 입력하시오:10\n",
            "두 번째 정수를 입력하시오:20\n",
            "10 + 20 = 30\n",
            "10 - 20 = -10\n",
            "10 * 20 = 200\n",
            "10 / 20 = 0.5\n"
          ]
        }
      ]
    }
  ]
}